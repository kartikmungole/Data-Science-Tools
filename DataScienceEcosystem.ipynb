{
 "cells": [
  {
   "cell_type": "markdown",
   "id": "6cbadd1f",
   "metadata": {},
   "source": [
    "# H1: Data Science Tools and Ecosystem"
   ]
  },
  {
   "cell_type": "markdown",
   "id": "9dc85ea7",
   "metadata": {},
   "source": [
    "Data Science Tools:\n",
    "Data science relies on a wide range of tools, including programming languages, libraries, and platforms that help data scientists collect, process, and analyze data.\n",
    "\n",
    "Data Science Ecosystem:\n",
    "The ecosystem includes various platforms, services, and techniques used in data science workflows, from collecting and storing data to analyzing and visualizing it\n",
    "\n"
   ]
  },
  {
   "cell_type": "markdown",
   "id": "f3905879",
   "metadata": {},
   "source": [
    "**Objectives:**\n",
    "- Introduction to Data Science.\n",
    "- Popular languages used by Data Scientist.\n",
    "- Popular libraries used by Data Scientist.\n",
    "- Arithmetic Operation in Jupyter Notebook."
   ]
  },
  {
   "cell_type": "markdown",
   "id": "4c0a871d",
   "metadata": {},
   "source": [
    "Some of the popular languages that Data Scientists use are:\n",
    "1. Python,\n",
    "2. R,\n",
    "3. Julia,\n",
    "4. Java"
   ]
  },
  {
   "cell_type": "markdown",
   "id": "dfe7dbbc",
   "metadata": {},
   "source": [
    "Some of the commonly used libraries used by Data Scientists include:\n",
    "1. NumPy,\n",
    "2. Pandas,\n",
    "3. Matplotlib,\n",
    "4. Seaborn"
   ]
  },
  {
   "cell_type": "markdown",
   "id": "0a1efaf7",
   "metadata": {},
   "source": [
    "| Data Science Tools |\n",
    "| ------------------ |\n",
    "| Jupyter Notebook |\n",
    "| RStudio |\n",
    "| Spyder |"
   ]
  },
  {
   "cell_type": "markdown",
   "id": "5f2e49b8",
   "metadata": {},
   "source": [
    "Below are a few examples of evaluating arithmetic expressions in Python:"
   ]
  },
  {
   "cell_type": "code",
   "execution_count": 3,
   "id": "d912ec61",
   "metadata": {},
   "outputs": [
    {
     "data": {
      "text/plain": [
       "23"
      ]
     },
     "execution_count": 3,
     "metadata": {},
     "output_type": "execute_result"
    }
   ],
   "source": [
    "# Addition:\n",
    "x = 10\n",
    "y = 13\n",
    "x + y"
   ]
  },
  {
   "cell_type": "code",
   "execution_count": 4,
   "id": "25a2b932",
   "metadata": {},
   "outputs": [
    {
     "data": {
      "text/plain": [
       "12"
      ]
     },
     "execution_count": 4,
     "metadata": {},
     "output_type": "execute_result"
    }
   ],
   "source": [
    "# Multiplication:\n",
    "x = 3\n",
    "y = 4\n",
    "x * y"
   ]
  },
  {
   "cell_type": "code",
   "execution_count": 5,
   "id": "df12f6a1",
   "metadata": {},
   "outputs": [
    {
     "data": {
      "text/plain": [
       "17"
      ]
     },
     "execution_count": 5,
     "metadata": {},
     "output_type": "execute_result"
    }
   ],
   "source": [
    "# This a simple arithmetic expression to mutiply then add integers\n",
    "(3*4)+5"
   ]
  },
  {
   "cell_type": "code",
   "execution_count": 7,
   "id": "67c22f55",
   "metadata": {},
   "outputs": [
    {
     "name": "stdout",
     "output_type": "stream",
     "text": [
      "3.3333333333333335 hours\n"
     ]
    }
   ],
   "source": [
    "# This will convert 200 minutes to hours by diving by 60.\n",
    "print(f\"{200 / 60} hours\")"
   ]
  },
  {
   "cell_type": "markdown",
   "id": "1eb60427",
   "metadata": {},
   "source": [
    "## Author:\n",
    "Kartik Mungole"
   ]
  }
 ],
 "metadata": {
  "kernelspec": {
   "display_name": "Python 3",
   "language": "python",
   "name": "python3"
  },
  "language_info": {
   "codemirror_mode": {
    "name": "ipython",
    "version": 3
   },
   "file_extension": ".py",
   "mimetype": "text/x-python",
   "name": "python",
   "nbconvert_exporter": "python",
   "pygments_lexer": "ipython3",
   "version": "3.8.8"
  }
 },
 "nbformat": 4,
 "nbformat_minor": 5
}
